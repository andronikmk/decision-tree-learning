{
 "cells": [
  {
   "cell_type": "code",
   "execution_count": 1,
   "metadata": {},
   "outputs": [],
   "source": [
    "import pandas as pd\n",
    "from sklearn.model_selection import train_test_split"
   ]
  },
  {
   "cell_type": "code",
   "execution_count": 2,
   "metadata": {},
   "outputs": [],
   "source": [
    "df = pd.read_csv(\"../data/restaurant.csv\")"
   ]
  },
  {
   "cell_type": "code",
   "execution_count": 3,
   "metadata": {},
   "outputs": [
    {
     "output_type": "execute_result",
     "data": {
      "text/plain": "  Alternate  Bar Fri/Sat Hungry Patrons Price Raining Reservation    Type  \\\n0       Yes   No      No    Yes    Some   $$$      No         Yes  French   \n1       Yes   No      No    Yes    Full     $      No          No    Thai   \n2        No  Yes      No     No    Some     $      No          No  Burger   \n3       Yes   No     Yes    Yes    Full     $      No          No    Thai   \n4       Yes   No     Yes     No    Full   $$$      No         Yes  French   \n\n  WaitEstimate WillWait  \n0         0-10      Yes  \n1        30-60       No  \n2         0-10      Yes  \n3        10-30      Yes  \n4          >60       No  ",
      "text/html": "<div>\n<style scoped>\n    .dataframe tbody tr th:only-of-type {\n        vertical-align: middle;\n    }\n\n    .dataframe tbody tr th {\n        vertical-align: top;\n    }\n\n    .dataframe thead th {\n        text-align: right;\n    }\n</style>\n<table border=\"1\" class=\"dataframe\">\n  <thead>\n    <tr style=\"text-align: right;\">\n      <th></th>\n      <th>Alternate</th>\n      <th>Bar</th>\n      <th>Fri/Sat</th>\n      <th>Hungry</th>\n      <th>Patrons</th>\n      <th>Price</th>\n      <th>Raining</th>\n      <th>Reservation</th>\n      <th>Type</th>\n      <th>WaitEstimate</th>\n      <th>WillWait</th>\n    </tr>\n  </thead>\n  <tbody>\n    <tr>\n      <th>0</th>\n      <td>Yes</td>\n      <td>No</td>\n      <td>No</td>\n      <td>Yes</td>\n      <td>Some</td>\n      <td>$$$</td>\n      <td>No</td>\n      <td>Yes</td>\n      <td>French</td>\n      <td>0-10</td>\n      <td>Yes</td>\n    </tr>\n    <tr>\n      <th>1</th>\n      <td>Yes</td>\n      <td>No</td>\n      <td>No</td>\n      <td>Yes</td>\n      <td>Full</td>\n      <td>$</td>\n      <td>No</td>\n      <td>No</td>\n      <td>Thai</td>\n      <td>30-60</td>\n      <td>No</td>\n    </tr>\n    <tr>\n      <th>2</th>\n      <td>No</td>\n      <td>Yes</td>\n      <td>No</td>\n      <td>No</td>\n      <td>Some</td>\n      <td>$</td>\n      <td>No</td>\n      <td>No</td>\n      <td>Burger</td>\n      <td>0-10</td>\n      <td>Yes</td>\n    </tr>\n    <tr>\n      <th>3</th>\n      <td>Yes</td>\n      <td>No</td>\n      <td>Yes</td>\n      <td>Yes</td>\n      <td>Full</td>\n      <td>$</td>\n      <td>No</td>\n      <td>No</td>\n      <td>Thai</td>\n      <td>10-30</td>\n      <td>Yes</td>\n    </tr>\n    <tr>\n      <th>4</th>\n      <td>Yes</td>\n      <td>No</td>\n      <td>Yes</td>\n      <td>No</td>\n      <td>Full</td>\n      <td>$$$</td>\n      <td>No</td>\n      <td>Yes</td>\n      <td>French</td>\n      <td>&gt;60</td>\n      <td>No</td>\n    </tr>\n  </tbody>\n</table>\n</div>"
     },
     "metadata": {},
     "execution_count": 3
    }
   ],
   "source": [
    "df.head()"
   ]
  },
  {
   "cell_type": "code",
   "execution_count": 4,
   "metadata": {},
   "outputs": [],
   "source": [
    "train, test = train_test_split(df, random_state=43)"
   ]
  },
  {
   "cell_type": "code",
   "execution_count": 5,
   "metadata": {},
   "outputs": [
    {
     "output_type": "execute_result",
     "data": {
      "text/plain": "   Alternate  Bar Fri/Sat Hungry Patrons Price Raining Reservation     Type  \\\n8         No  Yes     Yes     No    Full     $     Yes          No   Burger   \n9        Yes  Yes     Yes    Yes    Full   $$$      No         Yes  Italian   \n3        Yes   No     Yes    Yes    Full     $      No          No     Thai   \n10        No   No      No     No    None     $      No          No     Thai   \n2         No  Yes      No     No    Some     $      No          No   Burger   \n\n   WaitEstimate WillWait  \n8           >60       No  \n9         10-30       No  \n3         10-30      Yes  \n10         0-10       No  \n2          0-10      Yes  ",
      "text/html": "<div>\n<style scoped>\n    .dataframe tbody tr th:only-of-type {\n        vertical-align: middle;\n    }\n\n    .dataframe tbody tr th {\n        vertical-align: top;\n    }\n\n    .dataframe thead th {\n        text-align: right;\n    }\n</style>\n<table border=\"1\" class=\"dataframe\">\n  <thead>\n    <tr style=\"text-align: right;\">\n      <th></th>\n      <th>Alternate</th>\n      <th>Bar</th>\n      <th>Fri/Sat</th>\n      <th>Hungry</th>\n      <th>Patrons</th>\n      <th>Price</th>\n      <th>Raining</th>\n      <th>Reservation</th>\n      <th>Type</th>\n      <th>WaitEstimate</th>\n      <th>WillWait</th>\n    </tr>\n  </thead>\n  <tbody>\n    <tr>\n      <th>8</th>\n      <td>No</td>\n      <td>Yes</td>\n      <td>Yes</td>\n      <td>No</td>\n      <td>Full</td>\n      <td>$</td>\n      <td>Yes</td>\n      <td>No</td>\n      <td>Burger</td>\n      <td>&gt;60</td>\n      <td>No</td>\n    </tr>\n    <tr>\n      <th>9</th>\n      <td>Yes</td>\n      <td>Yes</td>\n      <td>Yes</td>\n      <td>Yes</td>\n      <td>Full</td>\n      <td>$$$</td>\n      <td>No</td>\n      <td>Yes</td>\n      <td>Italian</td>\n      <td>10-30</td>\n      <td>No</td>\n    </tr>\n    <tr>\n      <th>3</th>\n      <td>Yes</td>\n      <td>No</td>\n      <td>Yes</td>\n      <td>Yes</td>\n      <td>Full</td>\n      <td>$</td>\n      <td>No</td>\n      <td>No</td>\n      <td>Thai</td>\n      <td>10-30</td>\n      <td>Yes</td>\n    </tr>\n    <tr>\n      <th>10</th>\n      <td>No</td>\n      <td>No</td>\n      <td>No</td>\n      <td>No</td>\n      <td>None</td>\n      <td>$</td>\n      <td>No</td>\n      <td>No</td>\n      <td>Thai</td>\n      <td>0-10</td>\n      <td>No</td>\n    </tr>\n    <tr>\n      <th>2</th>\n      <td>No</td>\n      <td>Yes</td>\n      <td>No</td>\n      <td>No</td>\n      <td>Some</td>\n      <td>$</td>\n      <td>No</td>\n      <td>No</td>\n      <td>Burger</td>\n      <td>0-10</td>\n      <td>Yes</td>\n    </tr>\n  </tbody>\n</table>\n</div>"
     },
     "metadata": {},
     "execution_count": 5
    }
   ],
   "source": [
    "train.head()"
   ]
  },
  {
   "cell_type": "code",
   "execution_count": 6,
   "metadata": {},
   "outputs": [
    {
     "output_type": "execute_result",
     "data": {
      "text/plain": "   Alternate  Bar Fri/Sat Hungry Patrons Price Raining Reservation    Type  \\\n11       Yes  Yes     Yes    Yes    Full     $      No          No  Burger   \n6         No  Yes      No     No    None     $     Yes          No  Burger   \n7         No   No      No    Yes    Some    $$     Yes         Yes    Thai   \n\n   WaitEstimate WillWait  \n11        30-60      Yes  \n6          0-10       No  \n7          0-10      Yes  ",
      "text/html": "<div>\n<style scoped>\n    .dataframe tbody tr th:only-of-type {\n        vertical-align: middle;\n    }\n\n    .dataframe tbody tr th {\n        vertical-align: top;\n    }\n\n    .dataframe thead th {\n        text-align: right;\n    }\n</style>\n<table border=\"1\" class=\"dataframe\">\n  <thead>\n    <tr style=\"text-align: right;\">\n      <th></th>\n      <th>Alternate</th>\n      <th>Bar</th>\n      <th>Fri/Sat</th>\n      <th>Hungry</th>\n      <th>Patrons</th>\n      <th>Price</th>\n      <th>Raining</th>\n      <th>Reservation</th>\n      <th>Type</th>\n      <th>WaitEstimate</th>\n      <th>WillWait</th>\n    </tr>\n  </thead>\n  <tbody>\n    <tr>\n      <th>11</th>\n      <td>Yes</td>\n      <td>Yes</td>\n      <td>Yes</td>\n      <td>Yes</td>\n      <td>Full</td>\n      <td>$</td>\n      <td>No</td>\n      <td>No</td>\n      <td>Burger</td>\n      <td>30-60</td>\n      <td>Yes</td>\n    </tr>\n    <tr>\n      <th>6</th>\n      <td>No</td>\n      <td>Yes</td>\n      <td>No</td>\n      <td>No</td>\n      <td>None</td>\n      <td>$</td>\n      <td>Yes</td>\n      <td>No</td>\n      <td>Burger</td>\n      <td>0-10</td>\n      <td>No</td>\n    </tr>\n    <tr>\n      <th>7</th>\n      <td>No</td>\n      <td>No</td>\n      <td>No</td>\n      <td>Yes</td>\n      <td>Some</td>\n      <td>$$</td>\n      <td>Yes</td>\n      <td>Yes</td>\n      <td>Thai</td>\n      <td>0-10</td>\n      <td>Yes</td>\n    </tr>\n  </tbody>\n</table>\n</div>"
     },
     "metadata": {},
     "execution_count": 6
    }
   ],
   "source": [
    "test.head()"
   ]
  },
  {
   "cell_type": "code",
   "execution_count": 7,
   "metadata": {},
   "outputs": [
    {
     "output_type": "execute_result",
     "data": {
      "text/plain": "((9, 11), (3, 11))"
     },
     "metadata": {},
     "execution_count": 7
    }
   ],
   "source": [
    "train.shape, test.shape"
   ]
  },
  {
   "cell_type": "code",
   "execution_count": 8,
   "metadata": {},
   "outputs": [
    {
     "output_type": "execute_result",
     "data": {
      "text/plain": "No     0.555556\nYes    0.444444\nName: WillWait, dtype: float64"
     },
     "metadata": {},
     "execution_count": 8
    }
   ],
   "source": [
    "train['WillWait'].value_counts(normalize=True)"
   ]
  },
  {
   "cell_type": "code",
   "execution_count": 9,
   "metadata": {},
   "outputs": [
    {
     "output_type": "execute_result",
     "data": {
      "text/plain": "       Alternate Bar Fri/Sat Hungry Patrons Price Raining Reservation  Type  \\\ncount          9   9       9      9       9     9       9           9     9   \nunique         2   2       2      2       3     3       2           2     4   \ntop          Yes  No      No    Yes    Full     $      No          No  Thai   \nfreq           5   5       5      5       5     5       7           5     3   \n\n       WaitEstimate WillWait  \ncount             9        9  \nunique            4        2  \ntop            0-10       No  \nfreq              4        5  ",
      "text/html": "<div>\n<style scoped>\n    .dataframe tbody tr th:only-of-type {\n        vertical-align: middle;\n    }\n\n    .dataframe tbody tr th {\n        vertical-align: top;\n    }\n\n    .dataframe thead th {\n        text-align: right;\n    }\n</style>\n<table border=\"1\" class=\"dataframe\">\n  <thead>\n    <tr style=\"text-align: right;\">\n      <th></th>\n      <th>Alternate</th>\n      <th>Bar</th>\n      <th>Fri/Sat</th>\n      <th>Hungry</th>\n      <th>Patrons</th>\n      <th>Price</th>\n      <th>Raining</th>\n      <th>Reservation</th>\n      <th>Type</th>\n      <th>WaitEstimate</th>\n      <th>WillWait</th>\n    </tr>\n  </thead>\n  <tbody>\n    <tr>\n      <th>count</th>\n      <td>9</td>\n      <td>9</td>\n      <td>9</td>\n      <td>9</td>\n      <td>9</td>\n      <td>9</td>\n      <td>9</td>\n      <td>9</td>\n      <td>9</td>\n      <td>9</td>\n      <td>9</td>\n    </tr>\n    <tr>\n      <th>unique</th>\n      <td>2</td>\n      <td>2</td>\n      <td>2</td>\n      <td>2</td>\n      <td>3</td>\n      <td>3</td>\n      <td>2</td>\n      <td>2</td>\n      <td>4</td>\n      <td>4</td>\n      <td>2</td>\n    </tr>\n    <tr>\n      <th>top</th>\n      <td>Yes</td>\n      <td>No</td>\n      <td>No</td>\n      <td>Yes</td>\n      <td>Full</td>\n      <td>$</td>\n      <td>No</td>\n      <td>No</td>\n      <td>Thai</td>\n      <td>0-10</td>\n      <td>No</td>\n    </tr>\n    <tr>\n      <th>freq</th>\n      <td>5</td>\n      <td>5</td>\n      <td>5</td>\n      <td>5</td>\n      <td>5</td>\n      <td>5</td>\n      <td>7</td>\n      <td>5</td>\n      <td>3</td>\n      <td>4</td>\n      <td>5</td>\n    </tr>\n  </tbody>\n</table>\n</div>"
     },
     "metadata": {},
     "execution_count": 9
    }
   ],
   "source": [
    "train.describe()"
   ]
  },
  {
   "cell_type": "code",
   "execution_count": 10,
   "metadata": {},
   "outputs": [
    {
     "output_type": "execute_result",
     "data": {
      "text/plain": "       Alternate  Bar Fri/Sat Hungry Patrons Price Raining Reservation  \\\ncount          3    3       3      3       3     3       3           3   \nunique         2    2       2      2       3     2       2           2   \ntop           No  Yes      No    Yes    Full     $     Yes          No   \nfreq           2    2       2      2       1     2       2           2   \n\n          Type WaitEstimate WillWait  \ncount        3            3        3  \nunique       2            2        2  \ntop     Burger         0-10      Yes  \nfreq         2            2        2  ",
      "text/html": "<div>\n<style scoped>\n    .dataframe tbody tr th:only-of-type {\n        vertical-align: middle;\n    }\n\n    .dataframe tbody tr th {\n        vertical-align: top;\n    }\n\n    .dataframe thead th {\n        text-align: right;\n    }\n</style>\n<table border=\"1\" class=\"dataframe\">\n  <thead>\n    <tr style=\"text-align: right;\">\n      <th></th>\n      <th>Alternate</th>\n      <th>Bar</th>\n      <th>Fri/Sat</th>\n      <th>Hungry</th>\n      <th>Patrons</th>\n      <th>Price</th>\n      <th>Raining</th>\n      <th>Reservation</th>\n      <th>Type</th>\n      <th>WaitEstimate</th>\n      <th>WillWait</th>\n    </tr>\n  </thead>\n  <tbody>\n    <tr>\n      <th>count</th>\n      <td>3</td>\n      <td>3</td>\n      <td>3</td>\n      <td>3</td>\n      <td>3</td>\n      <td>3</td>\n      <td>3</td>\n      <td>3</td>\n      <td>3</td>\n      <td>3</td>\n      <td>3</td>\n    </tr>\n    <tr>\n      <th>unique</th>\n      <td>2</td>\n      <td>2</td>\n      <td>2</td>\n      <td>2</td>\n      <td>3</td>\n      <td>2</td>\n      <td>2</td>\n      <td>2</td>\n      <td>2</td>\n      <td>2</td>\n      <td>2</td>\n    </tr>\n    <tr>\n      <th>top</th>\n      <td>No</td>\n      <td>Yes</td>\n      <td>No</td>\n      <td>Yes</td>\n      <td>Full</td>\n      <td>$</td>\n      <td>Yes</td>\n      <td>No</td>\n      <td>Burger</td>\n      <td>0-10</td>\n      <td>Yes</td>\n    </tr>\n    <tr>\n      <th>freq</th>\n      <td>2</td>\n      <td>2</td>\n      <td>2</td>\n      <td>2</td>\n      <td>1</td>\n      <td>2</td>\n      <td>2</td>\n      <td>2</td>\n      <td>2</td>\n      <td>2</td>\n      <td>2</td>\n    </tr>\n  </tbody>\n</table>\n</div>"
     },
     "metadata": {},
     "execution_count": 10
    }
   ],
   "source": [
    "test.describe()"
   ]
  },
  {
   "cell_type": "code",
   "execution_count": 11,
   "metadata": {},
   "outputs": [],
   "source": [
    "target = 'WillWait'"
   ]
  },
  {
   "cell_type": "code",
   "execution_count": 12,
   "metadata": {},
   "outputs": [],
   "source": [
    "train_features = train.drop(columns=['WillWait'])"
   ]
  },
  {
   "cell_type": "code",
   "execution_count": 13,
   "metadata": {},
   "outputs": [],
   "source": [
    "numerical_features = train_features.select_dtypes(include='number').columns.tolist()"
   ]
  },
  {
   "cell_type": "code",
   "execution_count": 14,
   "metadata": {},
   "outputs": [],
   "source": [
    "cardinality = train_features.select_dtypes(exclude='number').nunique()"
   ]
  },
  {
   "cell_type": "code",
   "execution_count": 15,
   "metadata": {},
   "outputs": [],
   "source": [
    "categorical_features = cardinality[cardinality<=50].index.tolist()"
   ]
  },
  {
   "cell_type": "code",
   "execution_count": 16,
   "metadata": {
    "tags": []
   },
   "outputs": [
    {
     "output_type": "stream",
     "name": "stdout",
     "text": "['Alternate', 'Bar', 'Fri/Sat', 'Hungry', 'Patrons', 'Price', 'Raining', 'Reservation', 'Type', 'WaitEstimate']\n"
    }
   ],
   "source": [
    "featues = numerical_features + categorical_features\n",
    "print(featues)"
   ]
  },
  {
   "cell_type": "code",
   "execution_count": 17,
   "metadata": {},
   "outputs": [],
   "source": [
    "X_train = train[featues]\n",
    "y_train = train[target]\n",
    "X_test = test[featues]\n",
    "y_test = test[target]"
   ]
  },
  {
   "cell_type": "markdown",
   "metadata": {},
   "source": [
    "### Decision Tree Classifier"
   ]
  },
  {
   "cell_type": "code",
   "execution_count": 18,
   "metadata": {},
   "outputs": [],
   "source": [
    "import category_encoders as ce\n",
    "from sklearn.impute import SimpleImputer\n",
    "from sklearn.pipeline import make_pipeline\n",
    "from sklearn.preprocessing import StandardScaler\n",
    "\n",
    "from sklearn.tree import DecisionTreeClassifier"
   ]
  },
  {
   "cell_type": "code",
   "execution_count": 19,
   "metadata": {},
   "outputs": [],
   "source": [
    "pipeline = make_pipeline(\n",
    "    ce.OneHotEncoder(use_cat_names=True),\n",
    "    DecisionTreeClassifier(random_state=42)\n",
    "    )"
   ]
  },
  {
   "cell_type": "code",
   "execution_count": 20,
   "metadata": {},
   "outputs": [
    {
     "output_type": "execute_result",
     "data": {
      "text/plain": "Pipeline(steps=[('onehotencoder',\n                 OneHotEncoder(cols=['Alternate', 'Bar', 'Fri/Sat', 'Hungry',\n                                     'Patrons', 'Price', 'Raining',\n                                     'Reservation', 'Type', 'WaitEstimate'],\n                               use_cat_names=True)),\n                ('decisiontreeclassifier',\n                 DecisionTreeClassifier(random_state=42))])"
     },
     "metadata": {},
     "execution_count": 20
    }
   ],
   "source": [
    "pipeline.fit(X_train, y_train)"
   ]
  },
  {
   "cell_type": "code",
   "execution_count": 21,
   "metadata": {
    "tags": []
   },
   "outputs": [
    {
     "output_type": "stream",
     "name": "stdout",
     "text": "Train accuracy 1.0\n"
    }
   ],
   "source": [
    "print('Train accuracy', pipeline.score(X_train, y_train))"
   ]
  },
  {
   "cell_type": "code",
   "execution_count": 22,
   "metadata": {},
   "outputs": [],
   "source": [
    "y_pred = pipeline.predict(X_test)"
   ]
  },
  {
   "cell_type": "code",
   "execution_count": 23,
   "metadata": {},
   "outputs": [],
   "source": [
    "import graphviz\n",
    "from sklearn.tree import export_graphviz"
   ]
  },
  {
   "cell_type": "code",
   "execution_count": 24,
   "metadata": {},
   "outputs": [],
   "source": [
    "model = pipeline.named_steps['decisiontreeclassifier']\n",
    "encoder = pipeline.named_steps['onehotencoder']\n",
    "encoder_columns = encoder.transform(X_train).columns"
   ]
  },
  {
   "cell_type": "code",
   "execution_count": 25,
   "metadata": {},
   "outputs": [
    {
     "output_type": "display_data",
     "data": {
      "text/plain": "<graphviz.files.Source at 0x7fa25f2f3ba8>",
      "image/svg+xml": "<?xml version=\"1.0\" encoding=\"UTF-8\" standalone=\"no\"?>\n<!DOCTYPE svg PUBLIC \"-//W3C//DTD SVG 1.1//EN\"\n \"http://www.w3.org/Graphics/SVG/1.1/DTD/svg11.dtd\">\n<!-- Generated by graphviz version 2.43.0 (0)\n -->\n<!-- Title: Tree Pages: 1 -->\n<svg width=\"421pt\" height=\"373pt\"\n viewBox=\"0.00 0.00 421.00 373.00\" xmlns=\"http://www.w3.org/2000/svg\" xmlns:xlink=\"http://www.w3.org/1999/xlink\">\n<g id=\"graph0\" class=\"graph\" transform=\"scale(1 1) rotate(0) translate(4 369)\">\n<title>Tree</title>\n<polygon fill=\"white\" stroke=\"transparent\" points=\"-4,4 -4,-369 417,-369 417,4 -4,4\"/>\n<!-- 0 -->\n<g id=\"node1\" class=\"node\">\n<title>0</title>\n<path fill=\"#fae6d7\" stroke=\"black\" d=\"M322,-365C322,-365 170,-365 170,-365 164,-365 158,-359 158,-353 158,-353 158,-309 158,-309 158,-303 164,-297 170,-297 170,-297 322,-297 322,-297 328,-297 334,-303 334,-309 334,-309 334,-353 334,-353 334,-359 328,-365 322,-365\"/>\n<text text-anchor=\"middle\" x=\"246\" y=\"-349.8\" font-family=\"Helvetica,sans-Serif\" font-size=\"14.00\">Patrons_Some &lt;= 0.5</text>\n<text text-anchor=\"middle\" x=\"246\" y=\"-334.8\" font-family=\"Helvetica,sans-Serif\" font-size=\"14.00\">samples = 100.0%</text>\n<text text-anchor=\"middle\" x=\"246\" y=\"-319.8\" font-family=\"Helvetica,sans-Serif\" font-size=\"14.00\">value = [0.556, 0.444]</text>\n<text text-anchor=\"middle\" x=\"246\" y=\"-304.8\" font-family=\"Helvetica,sans-Serif\" font-size=\"14.00\">class = No</text>\n</g>\n<!-- 1 -->\n<g id=\"node2\" class=\"node\">\n<title>1</title>\n<path fill=\"#ea9a61\" stroke=\"black\" d=\"M242.5,-261C242.5,-261 55.5,-261 55.5,-261 49.5,-261 43.5,-255 43.5,-249 43.5,-249 43.5,-205 43.5,-205 43.5,-199 49.5,-193 55.5,-193 55.5,-193 242.5,-193 242.5,-193 248.5,-193 254.5,-199 254.5,-205 254.5,-205 254.5,-249 254.5,-249 254.5,-255 248.5,-261 242.5,-261\"/>\n<text text-anchor=\"middle\" x=\"149\" y=\"-245.8\" font-family=\"Helvetica,sans-Serif\" font-size=\"14.00\">WaitEstimate_10&#45;30 &lt;= 0.5</text>\n<text text-anchor=\"middle\" x=\"149\" y=\"-230.8\" font-family=\"Helvetica,sans-Serif\" font-size=\"14.00\">samples = 66.7%</text>\n<text text-anchor=\"middle\" x=\"149\" y=\"-215.8\" font-family=\"Helvetica,sans-Serif\" font-size=\"14.00\">value = [0.833, 0.167]</text>\n<text text-anchor=\"middle\" x=\"149\" y=\"-200.8\" font-family=\"Helvetica,sans-Serif\" font-size=\"14.00\">class = No</text>\n</g>\n<!-- 0&#45;&gt;1 -->\n<g id=\"edge1\" class=\"edge\">\n<title>0&#45;&gt;1</title>\n<path fill=\"none\" stroke=\"black\" d=\"M214.51,-296.88C205.95,-287.89 196.59,-278.04 187.68,-268.68\"/>\n<polygon fill=\"black\" stroke=\"black\" points=\"190.09,-266.13 180.67,-261.3 185.02,-270.96 190.09,-266.13\"/>\n<text text-anchor=\"middle\" x=\"180.04\" y=\"-282.59\" font-family=\"Helvetica,sans-Serif\" font-size=\"14.00\">True</text>\n</g>\n<!-- 6 -->\n<g id=\"node7\" class=\"node\">\n<title>6</title>\n<path fill=\"#399de5\" stroke=\"black\" d=\"M401,-253.5C401,-253.5 285,-253.5 285,-253.5 279,-253.5 273,-247.5 273,-241.5 273,-241.5 273,-212.5 273,-212.5 273,-206.5 279,-200.5 285,-200.5 285,-200.5 401,-200.5 401,-200.5 407,-200.5 413,-206.5 413,-212.5 413,-212.5 413,-241.5 413,-241.5 413,-247.5 407,-253.5 401,-253.5\"/>\n<text text-anchor=\"middle\" x=\"343\" y=\"-238.3\" font-family=\"Helvetica,sans-Serif\" font-size=\"14.00\">samples = 33.3%</text>\n<text text-anchor=\"middle\" x=\"343\" y=\"-223.3\" font-family=\"Helvetica,sans-Serif\" font-size=\"14.00\">value = [0.0, 1.0]</text>\n<text text-anchor=\"middle\" x=\"343\" y=\"-208.3\" font-family=\"Helvetica,sans-Serif\" font-size=\"14.00\">class = Yes</text>\n</g>\n<!-- 0&#45;&gt;6 -->\n<g id=\"edge6\" class=\"edge\">\n<title>0&#45;&gt;6</title>\n<path fill=\"none\" stroke=\"black\" d=\"M277.49,-296.88C288.47,-285.34 300.79,-272.39 311.75,-260.86\"/>\n<polygon fill=\"black\" stroke=\"black\" points=\"314.38,-263.18 318.73,-253.52 309.3,-258.35 314.38,-263.18\"/>\n<text text-anchor=\"middle\" x=\"319.36\" y=\"-274.81\" font-family=\"Helvetica,sans-Serif\" font-size=\"14.00\">False</text>\n</g>\n<!-- 2 -->\n<g id=\"node3\" class=\"node\">\n<title>2</title>\n<path fill=\"#e58139\" stroke=\"black\" d=\"M128,-149.5C128,-149.5 12,-149.5 12,-149.5 6,-149.5 0,-143.5 0,-137.5 0,-137.5 0,-108.5 0,-108.5 0,-102.5 6,-96.5 12,-96.5 12,-96.5 128,-96.5 128,-96.5 134,-96.5 140,-102.5 140,-108.5 140,-108.5 140,-137.5 140,-137.5 140,-143.5 134,-149.5 128,-149.5\"/>\n<text text-anchor=\"middle\" x=\"70\" y=\"-134.3\" font-family=\"Helvetica,sans-Serif\" font-size=\"14.00\">samples = 44.4%</text>\n<text text-anchor=\"middle\" x=\"70\" y=\"-119.3\" font-family=\"Helvetica,sans-Serif\" font-size=\"14.00\">value = [1.0, 0.0]</text>\n<text text-anchor=\"middle\" x=\"70\" y=\"-104.3\" font-family=\"Helvetica,sans-Serif\" font-size=\"14.00\">class = No</text>\n</g>\n<!-- 1&#45;&gt;2 -->\n<g id=\"edge2\" class=\"edge\">\n<title>1&#45;&gt;2</title>\n<path fill=\"none\" stroke=\"black\" d=\"M123.35,-192.88C114.58,-181.56 104.76,-168.88 95.96,-157.52\"/>\n<polygon fill=\"black\" stroke=\"black\" points=\"98.66,-155.28 89.77,-149.52 93.12,-159.57 98.66,-155.28\"/>\n</g>\n<!-- 3 -->\n<g id=\"node4\" class=\"node\">\n<title>3</title>\n<path fill=\"#ffffff\" stroke=\"black\" d=\"M286,-157C286,-157 170,-157 170,-157 164,-157 158,-151 158,-145 158,-145 158,-101 158,-101 158,-95 164,-89 170,-89 170,-89 286,-89 286,-89 292,-89 298,-95 298,-101 298,-101 298,-145 298,-145 298,-151 292,-157 286,-157\"/>\n<text text-anchor=\"middle\" x=\"228\" y=\"-141.8\" font-family=\"Helvetica,sans-Serif\" font-size=\"14.00\">Bar_Yes &lt;= 0.5</text>\n<text text-anchor=\"middle\" x=\"228\" y=\"-126.8\" font-family=\"Helvetica,sans-Serif\" font-size=\"14.00\">samples = 22.2%</text>\n<text text-anchor=\"middle\" x=\"228\" y=\"-111.8\" font-family=\"Helvetica,sans-Serif\" font-size=\"14.00\">value = [0.5, 0.5]</text>\n<text text-anchor=\"middle\" x=\"228\" y=\"-96.8\" font-family=\"Helvetica,sans-Serif\" font-size=\"14.00\">class = No</text>\n</g>\n<!-- 1&#45;&gt;3 -->\n<g id=\"edge3\" class=\"edge\">\n<title>1&#45;&gt;3</title>\n<path fill=\"none\" stroke=\"black\" d=\"M174.65,-192.88C181.48,-184.07 188.94,-174.43 196.06,-165.24\"/>\n<polygon fill=\"black\" stroke=\"black\" points=\"198.85,-167.35 202.21,-157.3 193.32,-163.06 198.85,-167.35\"/>\n</g>\n<!-- 4 -->\n<g id=\"node5\" class=\"node\">\n<title>4</title>\n<path fill=\"#399de5\" stroke=\"black\" d=\"M207,-53C207,-53 91,-53 91,-53 85,-53 79,-47 79,-41 79,-41 79,-12 79,-12 79,-6 85,0 91,0 91,0 207,0 207,0 213,0 219,-6 219,-12 219,-12 219,-41 219,-41 219,-47 213,-53 207,-53\"/>\n<text text-anchor=\"middle\" x=\"149\" y=\"-37.8\" font-family=\"Helvetica,sans-Serif\" font-size=\"14.00\">samples = 11.1%</text>\n<text text-anchor=\"middle\" x=\"149\" y=\"-22.8\" font-family=\"Helvetica,sans-Serif\" font-size=\"14.00\">value = [0.0, 1.0]</text>\n<text text-anchor=\"middle\" x=\"149\" y=\"-7.8\" font-family=\"Helvetica,sans-Serif\" font-size=\"14.00\">class = Yes</text>\n</g>\n<!-- 3&#45;&gt;4 -->\n<g id=\"edge4\" class=\"edge\">\n<title>3&#45;&gt;4</title>\n<path fill=\"none\" stroke=\"black\" d=\"M200.37,-88.95C192.8,-79.89 184.59,-70.07 176.99,-60.99\"/>\n<polygon fill=\"black\" stroke=\"black\" points=\"179.61,-58.66 170.52,-53.24 174.24,-63.15 179.61,-58.66\"/>\n</g>\n<!-- 5 -->\n<g id=\"node6\" class=\"node\">\n<title>5</title>\n<path fill=\"#e58139\" stroke=\"black\" d=\"M365,-53C365,-53 249,-53 249,-53 243,-53 237,-47 237,-41 237,-41 237,-12 237,-12 237,-6 243,0 249,0 249,0 365,0 365,0 371,0 377,-6 377,-12 377,-12 377,-41 377,-41 377,-47 371,-53 365,-53\"/>\n<text text-anchor=\"middle\" x=\"307\" y=\"-37.8\" font-family=\"Helvetica,sans-Serif\" font-size=\"14.00\">samples = 11.1%</text>\n<text text-anchor=\"middle\" x=\"307\" y=\"-22.8\" font-family=\"Helvetica,sans-Serif\" font-size=\"14.00\">value = [1.0, 0.0]</text>\n<text text-anchor=\"middle\" x=\"307\" y=\"-7.8\" font-family=\"Helvetica,sans-Serif\" font-size=\"14.00\">class = No</text>\n</g>\n<!-- 3&#45;&gt;5 -->\n<g id=\"edge5\" class=\"edge\">\n<title>3&#45;&gt;5</title>\n<path fill=\"none\" stroke=\"black\" d=\"M255.63,-88.95C263.2,-79.89 271.41,-70.07 279.01,-60.99\"/>\n<polygon fill=\"black\" stroke=\"black\" points=\"281.76,-63.15 285.48,-53.24 276.39,-58.66 281.76,-63.15\"/>\n</g>\n</g>\n</svg>\n"
     },
     "metadata": {}
    }
   ],
   "source": [
    "# dot_data = export_graphviz(model,\n",
    "#                           out_file=None,\n",
    "#                           max_depth=4,\n",
    "#                           feature_names=encoder_columns,\n",
    "#                           class_names=model.classes_,\n",
    "#                           impurity=False,\n",
    "#                           filled=True,\n",
    "#                           proportion=True,\n",
    "#                           rounded=False)\n",
    "\n",
    "model = pipeline.named_steps['decisiontreeclassifier']\n",
    "encoder = pipeline.named_steps['onehotencoder']\n",
    "encoded_columns = encoder.transform(X_train).columns\n",
    "\n",
    "\n",
    "dot_data = export_graphviz(model, \n",
    "                           out_file=None, \n",
    "                           max_depth=3, \n",
    "                           feature_names=encoded_columns,\n",
    "                           class_names=model.classes_, \n",
    "                           impurity=False, \n",
    "                           filled=True, \n",
    "                           proportion=True, \n",
    "                           rounded=True)   \n",
    "display(graphviz.Source(dot_data))"
   ]
  },
  {
   "cell_type": "code",
   "execution_count": 26,
   "metadata": {},
   "outputs": [
    {
     "output_type": "display_data",
     "data": {
      "text/plain": "<graphviz.files.Source at 0x7fa2627dc748>",
      "image/svg+xml": "<?xml version=\"1.0\" encoding=\"UTF-8\" standalone=\"no\"?>\n<!DOCTYPE svg PUBLIC \"-//W3C//DTD SVG 1.1//EN\"\n \"http://www.w3.org/Graphics/SVG/1.1/DTD/svg11.dtd\">\n<!-- Generated by graphviz version 2.43.0 (0)\n -->\n<!-- Title: Tree Pages: 1 -->\n<svg width=\"421pt\" height=\"373pt\"\n viewBox=\"0.00 0.00 421.00 373.00\" xmlns=\"http://www.w3.org/2000/svg\" xmlns:xlink=\"http://www.w3.org/1999/xlink\">\n<g id=\"graph0\" class=\"graph\" transform=\"scale(1 1) rotate(0) translate(4 369)\">\n<title>Tree</title>\n<polygon fill=\"white\" stroke=\"transparent\" points=\"-4,4 -4,-369 417,-369 417,4 -4,4\"/>\n<!-- 0 -->\n<g id=\"node1\" class=\"node\">\n<title>0</title>\n<path fill=\"#fae6d7\" stroke=\"black\" d=\"M322,-365C322,-365 170,-365 170,-365 164,-365 158,-359 158,-353 158,-353 158,-309 158,-309 158,-303 164,-297 170,-297 170,-297 322,-297 322,-297 328,-297 334,-303 334,-309 334,-309 334,-353 334,-353 334,-359 328,-365 322,-365\"/>\n<text text-anchor=\"middle\" x=\"246\" y=\"-349.8\" font-family=\"Helvetica,sans-Serif\" font-size=\"14.00\">Patrons_Some &lt;= 0.5</text>\n<text text-anchor=\"middle\" x=\"246\" y=\"-334.8\" font-family=\"Helvetica,sans-Serif\" font-size=\"14.00\">samples = 100.0%</text>\n<text text-anchor=\"middle\" x=\"246\" y=\"-319.8\" font-family=\"Helvetica,sans-Serif\" font-size=\"14.00\">value = [0.556, 0.444]</text>\n<text text-anchor=\"middle\" x=\"246\" y=\"-304.8\" font-family=\"Helvetica,sans-Serif\" font-size=\"14.00\">class = No</text>\n</g>\n<!-- 1 -->\n<g id=\"node2\" class=\"node\">\n<title>1</title>\n<path fill=\"#ea9a61\" stroke=\"black\" d=\"M242.5,-261C242.5,-261 55.5,-261 55.5,-261 49.5,-261 43.5,-255 43.5,-249 43.5,-249 43.5,-205 43.5,-205 43.5,-199 49.5,-193 55.5,-193 55.5,-193 242.5,-193 242.5,-193 248.5,-193 254.5,-199 254.5,-205 254.5,-205 254.5,-249 254.5,-249 254.5,-255 248.5,-261 242.5,-261\"/>\n<text text-anchor=\"middle\" x=\"149\" y=\"-245.8\" font-family=\"Helvetica,sans-Serif\" font-size=\"14.00\">WaitEstimate_10&#45;30 &lt;= 0.5</text>\n<text text-anchor=\"middle\" x=\"149\" y=\"-230.8\" font-family=\"Helvetica,sans-Serif\" font-size=\"14.00\">samples = 66.7%</text>\n<text text-anchor=\"middle\" x=\"149\" y=\"-215.8\" font-family=\"Helvetica,sans-Serif\" font-size=\"14.00\">value = [0.833, 0.167]</text>\n<text text-anchor=\"middle\" x=\"149\" y=\"-200.8\" font-family=\"Helvetica,sans-Serif\" font-size=\"14.00\">class = No</text>\n</g>\n<!-- 0&#45;&gt;1 -->\n<g id=\"edge1\" class=\"edge\">\n<title>0&#45;&gt;1</title>\n<path fill=\"none\" stroke=\"black\" d=\"M214.51,-296.88C205.95,-287.89 196.59,-278.04 187.68,-268.68\"/>\n<polygon fill=\"black\" stroke=\"black\" points=\"190.09,-266.13 180.67,-261.3 185.02,-270.96 190.09,-266.13\"/>\n<text text-anchor=\"middle\" x=\"180.04\" y=\"-282.59\" font-family=\"Helvetica,sans-Serif\" font-size=\"14.00\">True</text>\n</g>\n<!-- 6 -->\n<g id=\"node7\" class=\"node\">\n<title>6</title>\n<path fill=\"#399de5\" stroke=\"black\" d=\"M401,-253.5C401,-253.5 285,-253.5 285,-253.5 279,-253.5 273,-247.5 273,-241.5 273,-241.5 273,-212.5 273,-212.5 273,-206.5 279,-200.5 285,-200.5 285,-200.5 401,-200.5 401,-200.5 407,-200.5 413,-206.5 413,-212.5 413,-212.5 413,-241.5 413,-241.5 413,-247.5 407,-253.5 401,-253.5\"/>\n<text text-anchor=\"middle\" x=\"343\" y=\"-238.3\" font-family=\"Helvetica,sans-Serif\" font-size=\"14.00\">samples = 33.3%</text>\n<text text-anchor=\"middle\" x=\"343\" y=\"-223.3\" font-family=\"Helvetica,sans-Serif\" font-size=\"14.00\">value = [0.0, 1.0]</text>\n<text text-anchor=\"middle\" x=\"343\" y=\"-208.3\" font-family=\"Helvetica,sans-Serif\" font-size=\"14.00\">class = Yes</text>\n</g>\n<!-- 0&#45;&gt;6 -->\n<g id=\"edge6\" class=\"edge\">\n<title>0&#45;&gt;6</title>\n<path fill=\"none\" stroke=\"black\" d=\"M277.49,-296.88C288.47,-285.34 300.79,-272.39 311.75,-260.86\"/>\n<polygon fill=\"black\" stroke=\"black\" points=\"314.38,-263.18 318.73,-253.52 309.3,-258.35 314.38,-263.18\"/>\n<text text-anchor=\"middle\" x=\"319.36\" y=\"-274.81\" font-family=\"Helvetica,sans-Serif\" font-size=\"14.00\">False</text>\n</g>\n<!-- 2 -->\n<g id=\"node3\" class=\"node\">\n<title>2</title>\n<path fill=\"#e58139\" stroke=\"black\" d=\"M128,-149.5C128,-149.5 12,-149.5 12,-149.5 6,-149.5 0,-143.5 0,-137.5 0,-137.5 0,-108.5 0,-108.5 0,-102.5 6,-96.5 12,-96.5 12,-96.5 128,-96.5 128,-96.5 134,-96.5 140,-102.5 140,-108.5 140,-108.5 140,-137.5 140,-137.5 140,-143.5 134,-149.5 128,-149.5\"/>\n<text text-anchor=\"middle\" x=\"70\" y=\"-134.3\" font-family=\"Helvetica,sans-Serif\" font-size=\"14.00\">samples = 44.4%</text>\n<text text-anchor=\"middle\" x=\"70\" y=\"-119.3\" font-family=\"Helvetica,sans-Serif\" font-size=\"14.00\">value = [1.0, 0.0]</text>\n<text text-anchor=\"middle\" x=\"70\" y=\"-104.3\" font-family=\"Helvetica,sans-Serif\" font-size=\"14.00\">class = No</text>\n</g>\n<!-- 1&#45;&gt;2 -->\n<g id=\"edge2\" class=\"edge\">\n<title>1&#45;&gt;2</title>\n<path fill=\"none\" stroke=\"black\" d=\"M123.35,-192.88C114.58,-181.56 104.76,-168.88 95.96,-157.52\"/>\n<polygon fill=\"black\" stroke=\"black\" points=\"98.66,-155.28 89.77,-149.52 93.12,-159.57 98.66,-155.28\"/>\n</g>\n<!-- 3 -->\n<g id=\"node4\" class=\"node\">\n<title>3</title>\n<path fill=\"#ffffff\" stroke=\"black\" d=\"M286,-157C286,-157 170,-157 170,-157 164,-157 158,-151 158,-145 158,-145 158,-101 158,-101 158,-95 164,-89 170,-89 170,-89 286,-89 286,-89 292,-89 298,-95 298,-101 298,-101 298,-145 298,-145 298,-151 292,-157 286,-157\"/>\n<text text-anchor=\"middle\" x=\"228\" y=\"-141.8\" font-family=\"Helvetica,sans-Serif\" font-size=\"14.00\">Bar_Yes &lt;= 0.5</text>\n<text text-anchor=\"middle\" x=\"228\" y=\"-126.8\" font-family=\"Helvetica,sans-Serif\" font-size=\"14.00\">samples = 22.2%</text>\n<text text-anchor=\"middle\" x=\"228\" y=\"-111.8\" font-family=\"Helvetica,sans-Serif\" font-size=\"14.00\">value = [0.5, 0.5]</text>\n<text text-anchor=\"middle\" x=\"228\" y=\"-96.8\" font-family=\"Helvetica,sans-Serif\" font-size=\"14.00\">class = No</text>\n</g>\n<!-- 1&#45;&gt;3 -->\n<g id=\"edge3\" class=\"edge\">\n<title>1&#45;&gt;3</title>\n<path fill=\"none\" stroke=\"black\" d=\"M174.65,-192.88C181.48,-184.07 188.94,-174.43 196.06,-165.24\"/>\n<polygon fill=\"black\" stroke=\"black\" points=\"198.85,-167.35 202.21,-157.3 193.32,-163.06 198.85,-167.35\"/>\n</g>\n<!-- 4 -->\n<g id=\"node5\" class=\"node\">\n<title>4</title>\n<path fill=\"#399de5\" stroke=\"black\" d=\"M207,-53C207,-53 91,-53 91,-53 85,-53 79,-47 79,-41 79,-41 79,-12 79,-12 79,-6 85,0 91,0 91,0 207,0 207,0 213,0 219,-6 219,-12 219,-12 219,-41 219,-41 219,-47 213,-53 207,-53\"/>\n<text text-anchor=\"middle\" x=\"149\" y=\"-37.8\" font-family=\"Helvetica,sans-Serif\" font-size=\"14.00\">samples = 11.1%</text>\n<text text-anchor=\"middle\" x=\"149\" y=\"-22.8\" font-family=\"Helvetica,sans-Serif\" font-size=\"14.00\">value = [0.0, 1.0]</text>\n<text text-anchor=\"middle\" x=\"149\" y=\"-7.8\" font-family=\"Helvetica,sans-Serif\" font-size=\"14.00\">class = Yes</text>\n</g>\n<!-- 3&#45;&gt;4 -->\n<g id=\"edge4\" class=\"edge\">\n<title>3&#45;&gt;4</title>\n<path fill=\"none\" stroke=\"black\" d=\"M200.37,-88.95C192.8,-79.89 184.59,-70.07 176.99,-60.99\"/>\n<polygon fill=\"black\" stroke=\"black\" points=\"179.61,-58.66 170.52,-53.24 174.24,-63.15 179.61,-58.66\"/>\n</g>\n<!-- 5 -->\n<g id=\"node6\" class=\"node\">\n<title>5</title>\n<path fill=\"#e58139\" stroke=\"black\" d=\"M365,-53C365,-53 249,-53 249,-53 243,-53 237,-47 237,-41 237,-41 237,-12 237,-12 237,-6 243,0 249,0 249,0 365,0 365,0 371,0 377,-6 377,-12 377,-12 377,-41 377,-41 377,-47 371,-53 365,-53\"/>\n<text text-anchor=\"middle\" x=\"307\" y=\"-37.8\" font-family=\"Helvetica,sans-Serif\" font-size=\"14.00\">samples = 11.1%</text>\n<text text-anchor=\"middle\" x=\"307\" y=\"-22.8\" font-family=\"Helvetica,sans-Serif\" font-size=\"14.00\">value = [1.0, 0.0]</text>\n<text text-anchor=\"middle\" x=\"307\" y=\"-7.8\" font-family=\"Helvetica,sans-Serif\" font-size=\"14.00\">class = No</text>\n</g>\n<!-- 3&#45;&gt;5 -->\n<g id=\"edge5\" class=\"edge\">\n<title>3&#45;&gt;5</title>\n<path fill=\"none\" stroke=\"black\" d=\"M255.63,-88.95C263.2,-79.89 271.41,-70.07 279.01,-60.99\"/>\n<polygon fill=\"black\" stroke=\"black\" points=\"281.76,-63.15 285.48,-53.24 276.39,-58.66 281.76,-63.15\"/>\n</g>\n</g>\n</svg>\n"
     },
     "metadata": {}
    }
   ],
   "source": [
    "display(graphviz.Source(dot_data))"
   ]
  },
  {
   "cell_type": "code",
   "execution_count": 27,
   "metadata": {},
   "outputs": [],
   "source": [
    "import category_encoders as ce\n",
    "from sklearn.experimental import enable_iterative_imputer\n",
    "from sklearn.impute import IterativeImputer, SimpleImputer\n",
    "from sklearn.pipeline import make_pipeline\n",
    "from sklearn.tree import DecisionTreeClassifier\n",
    "import pandas as pd\n",
    "from sklearn.model_selection import train_test_split\n",
    "import matplotlib.pyplot as plt\n",
    "from dtreeviz.trees import *\n",
    "from sklearn.preprocessing import StandardScaler"
   ]
  },
  {
   "cell_type": "code",
   "execution_count": 28,
   "metadata": {},
   "outputs": [],
   "source": [
    "encoder = ce.OneHotEncoder(use_cat_names=True)\n",
    "imputer = SimpleImputer()\n",
    "scaler = StandardScaler()\n",
    "\n",
    "X_train_encoded = encoder.fit_transform(X_train)\n",
    "X_train_imputed = imputer.fit_transform(X_train_encoded)\n",
    "X_train_scaled = scaler.fit_transform(X_train_imputed)"
   ]
  },
  {
   "cell_type": "code",
   "execution_count": 29,
   "metadata": {},
   "outputs": [],
   "source": [
    "X_test_encoded = encoder.transform(X_test)\n",
    "X_test_imputed = imputer.transform(X_test_encoded)\n",
    "X_test_scaled = scaler.transform(X_test_imputed)"
   ]
  },
  {
   "cell_type": "code",
   "execution_count": 30,
   "metadata": {},
   "outputs": [
    {
     "output_type": "execute_result",
     "data": {
      "text/plain": "DecisionTreeClassifier(max_depth=3)"
     },
     "metadata": {},
     "execution_count": 30
    }
   ],
   "source": [
    "clas = tree.DecisionTreeClassifier(max_depth=3)  \n",
    "X_train = X_train_scaled\n",
    "y_train = [0, 1, 1, 0,1,0,1,1,0]\n",
    "\n",
    "y_train = np.array(y_train, dtype=np.float32)\n",
    "clas.fit(X_train, y_train)"
   ]
  },
  {
   "cell_type": "code",
   "execution_count": 31,
   "metadata": {},
   "outputs": [],
   "source": [
    "from sklearn import metrics"
   ]
  },
  {
   "cell_type": "code",
   "execution_count": 32,
   "metadata": {
    "tags": []
   },
   "outputs": [
    {
     "output_type": "stream",
     "name": "stderr",
     "text": "findfont: Font family ['Arial'] not found. Falling back to DejaVu Sans.\nfindfont: Font family ['Arial'] not found. Falling back to DejaVu Sans.\nfindfont: Font family ['Arial'] not found. Falling back to DejaVu Sans.\n"
    }
   ],
   "source": [
    "viz = dtreeviz(clas, \n",
    "               X_train,\n",
    "               y_train,\n",
    "               target_name='WillWait',\n",
    "               feature_names=encoded_columns, \n",
    "               class_names=[chr(c) for c in range(ord('0'),ord('9')+1)],\n",
    "               histtype='bar')"
   ]
  },
  {
   "cell_type": "code",
   "execution_count": 33,
   "metadata": {},
   "outputs": [],
   "source": [
    "viz.view()"
   ]
  },
  {
   "cell_type": "code",
   "execution_count": 34,
   "metadata": {},
   "outputs": [],
   "source": [
    "viz.save(\"final.svg\")"
   ]
  },
  {
   "cell_type": "code",
   "execution_count": 35,
   "metadata": {},
   "outputs": [],
   "source": [
    "from svglib.svglib import svg2rlg\n",
    "from reportlab.graphics import renderPDF, renderPM"
   ]
  },
  {
   "cell_type": "code",
   "execution_count": 36,
   "metadata": {},
   "outputs": [],
   "source": [
    "drawing = svg2rlg(\"final.svg\")\n",
    "renderPDF.drawToFile(drawing, \"final.pdf\")"
   ]
  },
  {
   "cell_type": "code",
   "execution_count": null,
   "metadata": {},
   "outputs": [],
   "source": []
  }
 ],
 "metadata": {
  "kernelspec": {
   "display_name": "dtl (python3)",
   "language": "python",
   "name": "dtl"
  },
  "language_info": {
   "codemirror_mode": {
    "name": "ipython",
    "version": 3
   },
   "file_extension": ".py",
   "mimetype": "text/x-python",
   "name": "python",
   "nbconvert_exporter": "python",
   "pygments_lexer": "ipython3",
   "version": "3.7.0-final"
  }
 },
 "nbformat": 4,
 "nbformat_minor": 4
}