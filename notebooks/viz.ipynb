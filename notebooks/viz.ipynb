{
 "cells": [
  {
   "cell_type": "code",
   "execution_count": 1,
   "metadata": {},
   "outputs": [],
   "source": [
    "from sklearn.datasets import *\n",
    "from sklearn import tree\n",
    "from dtreeviz.trees import *\n",
    "import pandas as pd\n",
    "from sklearn.model_selection import train_test_split"
   ]
  },
  {
   "cell_type": "code",
   "execution_count": 2,
   "metadata": {
    "tags": []
   },
   "outputs": [
    {
     "output_type": "stream",
     "name": "stderr",
     "text": "findfont: Font family ['Arial'] not found. Falling back to DejaVu Sans.\n"
    }
   ],
   "source": [
    "regr = tree.DecisionTreeRegressor(max_depth=2)\n",
    "boston = load_boston()\n",
    "regr.fit(boston.data, boston.target)\n",
    "\n",
    "viz = dtreeviz(regr,\n",
    "               boston.data,\n",
    "               boston.target,\n",
    "               target_name='price',\n",
    "               feature_names=boston.feature_names)"
   ]
  },
  {
   "cell_type": "code",
   "execution_count": 3,
   "metadata": {},
   "outputs": [],
   "source": [
    "viz.view()"
   ]
  },
  {
   "cell_type": "code",
   "execution_count": 4,
   "metadata": {},
   "outputs": [
    {
     "output_type": "execute_result",
     "data": {
      "text/plain": "  Alternate  Bar Fri/Sat Hungry Patrons Price Raining Reservation    Type  \\\n0       Yes   No      No    Yes    Some   $$$      No         Yes  French   \n1       Yes   No      No    Yes    Full     $      No          No    Thai   \n2        No  Yes      No     No    Some     $      No          No  Burger   \n3       Yes   No     Yes    Yes    Full     $      No          No    Thai   \n4       Yes   No     Yes     No    Full   $$$      No         Yes  French   \n\n  WaitEstimate WillWait  \n0         0-10      Yes  \n1        30-60       No  \n2         0-10      Yes  \n3        10-30      Yes  \n4          >60       No  ",
      "text/html": "<div>\n<style scoped>\n    .dataframe tbody tr th:only-of-type {\n        vertical-align: middle;\n    }\n\n    .dataframe tbody tr th {\n        vertical-align: top;\n    }\n\n    .dataframe thead th {\n        text-align: right;\n    }\n</style>\n<table border=\"1\" class=\"dataframe\">\n  <thead>\n    <tr style=\"text-align: right;\">\n      <th></th>\n      <th>Alternate</th>\n      <th>Bar</th>\n      <th>Fri/Sat</th>\n      <th>Hungry</th>\n      <th>Patrons</th>\n      <th>Price</th>\n      <th>Raining</th>\n      <th>Reservation</th>\n      <th>Type</th>\n      <th>WaitEstimate</th>\n      <th>WillWait</th>\n    </tr>\n  </thead>\n  <tbody>\n    <tr>\n      <th>0</th>\n      <td>Yes</td>\n      <td>No</td>\n      <td>No</td>\n      <td>Yes</td>\n      <td>Some</td>\n      <td>$$$</td>\n      <td>No</td>\n      <td>Yes</td>\n      <td>French</td>\n      <td>0-10</td>\n      <td>Yes</td>\n    </tr>\n    <tr>\n      <th>1</th>\n      <td>Yes</td>\n      <td>No</td>\n      <td>No</td>\n      <td>Yes</td>\n      <td>Full</td>\n      <td>$</td>\n      <td>No</td>\n      <td>No</td>\n      <td>Thai</td>\n      <td>30-60</td>\n      <td>No</td>\n    </tr>\n    <tr>\n      <th>2</th>\n      <td>No</td>\n      <td>Yes</td>\n      <td>No</td>\n      <td>No</td>\n      <td>Some</td>\n      <td>$</td>\n      <td>No</td>\n      <td>No</td>\n      <td>Burger</td>\n      <td>0-10</td>\n      <td>Yes</td>\n    </tr>\n    <tr>\n      <th>3</th>\n      <td>Yes</td>\n      <td>No</td>\n      <td>Yes</td>\n      <td>Yes</td>\n      <td>Full</td>\n      <td>$</td>\n      <td>No</td>\n      <td>No</td>\n      <td>Thai</td>\n      <td>10-30</td>\n      <td>Yes</td>\n    </tr>\n    <tr>\n      <th>4</th>\n      <td>Yes</td>\n      <td>No</td>\n      <td>Yes</td>\n      <td>No</td>\n      <td>Full</td>\n      <td>$$$</td>\n      <td>No</td>\n      <td>Yes</td>\n      <td>French</td>\n      <td>&gt;60</td>\n      <td>No</td>\n    </tr>\n  </tbody>\n</table>\n</div>"
     },
     "metadata": {},
     "execution_count": 4
    }
   ],
   "source": [
    "df = pd.read_csv(\"/home/andronik/repo/decision-tree-learning/data/restaurant.csv\")\n",
    "df.head()"
   ]
  },
  {
   "cell_type": "code",
   "execution_count": 5,
   "metadata": {},
   "outputs": [],
   "source": [
    "train, test = train_test_split(df, train_size=0.80, test_size=0.20, random_state=42)"
   ]
  },
  {
   "cell_type": "code",
   "execution_count": 6,
   "metadata": {},
   "outputs": [
    {
     "output_type": "execute_result",
     "data": {
      "text/plain": "((9, 11), (3, 11))"
     },
     "metadata": {},
     "execution_count": 6
    }
   ],
   "source": [
    "train.shape, test.shape"
   ]
  },
  {
   "cell_type": "code",
   "execution_count": 7,
   "metadata": {},
   "outputs": [
    {
     "output_type": "execute_result",
     "data": {
      "text/plain": "             count unique     top freq\nAlternate        9      2      No    5\nBar              9      2     Yes    5\nFri/Sat          9      2      No    5\nHungry           9      2     Yes    5\nRaining          9      2      No    5\nReservation      9      2      No    6\nWillWait         9      2     Yes    5\nPatrons          9      3    Full    5\nPrice            9      3       $    6\nType             9      4  Burger    4\nWaitEstimate     9      4    0-10    4",
      "text/html": "<div>\n<style scoped>\n    .dataframe tbody tr th:only-of-type {\n        vertical-align: middle;\n    }\n\n    .dataframe tbody tr th {\n        vertical-align: top;\n    }\n\n    .dataframe thead th {\n        text-align: right;\n    }\n</style>\n<table border=\"1\" class=\"dataframe\">\n  <thead>\n    <tr style=\"text-align: right;\">\n      <th></th>\n      <th>count</th>\n      <th>unique</th>\n      <th>top</th>\n      <th>freq</th>\n    </tr>\n  </thead>\n  <tbody>\n    <tr>\n      <th>Alternate</th>\n      <td>9</td>\n      <td>2</td>\n      <td>No</td>\n      <td>5</td>\n    </tr>\n    <tr>\n      <th>Bar</th>\n      <td>9</td>\n      <td>2</td>\n      <td>Yes</td>\n      <td>5</td>\n    </tr>\n    <tr>\n      <th>Fri/Sat</th>\n      <td>9</td>\n      <td>2</td>\n      <td>No</td>\n      <td>5</td>\n    </tr>\n    <tr>\n      <th>Hungry</th>\n      <td>9</td>\n      <td>2</td>\n      <td>Yes</td>\n      <td>5</td>\n    </tr>\n    <tr>\n      <th>Raining</th>\n      <td>9</td>\n      <td>2</td>\n      <td>No</td>\n      <td>5</td>\n    </tr>\n    <tr>\n      <th>Reservation</th>\n      <td>9</td>\n      <td>2</td>\n      <td>No</td>\n      <td>6</td>\n    </tr>\n    <tr>\n      <th>WillWait</th>\n      <td>9</td>\n      <td>2</td>\n      <td>Yes</td>\n      <td>5</td>\n    </tr>\n    <tr>\n      <th>Patrons</th>\n      <td>9</td>\n      <td>3</td>\n      <td>Full</td>\n      <td>5</td>\n    </tr>\n    <tr>\n      <th>Price</th>\n      <td>9</td>\n      <td>3</td>\n      <td>$</td>\n      <td>6</td>\n    </tr>\n    <tr>\n      <th>Type</th>\n      <td>9</td>\n      <td>4</td>\n      <td>Burger</td>\n      <td>4</td>\n    </tr>\n    <tr>\n      <th>WaitEstimate</th>\n      <td>9</td>\n      <td>4</td>\n      <td>0-10</td>\n      <td>4</td>\n    </tr>\n  </tbody>\n</table>\n</div>"
     },
     "metadata": {},
     "execution_count": 7
    }
   ],
   "source": [
    "train.select_dtypes(exclude='number').describe().T.sort_values(by='unique')"
   ]
  },
  {
   "cell_type": "code",
   "execution_count": 8,
   "metadata": {
    "tags": []
   },
   "outputs": [
    {
     "output_type": "stream",
     "name": "stdout",
     "text": "['Alternate', 'Bar', 'Fri/Sat', 'Hungry', 'Patrons', 'Price', 'Raining', 'Reservation', 'Type', 'WaitEstimate']\n"
    }
   ],
   "source": [
    "# The status_group column is the target\n",
    "target = 'WillWait'\n",
    "\n",
    "# Get a dataframe with all train columns except the target\n",
    "train_features = train.drop(columns=target)\n",
    "\n",
    "# Get a list of the numeric features\n",
    "numeric_features = train.select_dtypes(include='number').columns.tolist()\n",
    "\n",
    "# Get a series with the cardinality of the nonnumeric features\n",
    "cardinality = train_features.select_dtypes(exclude='number').nunique()\n",
    "\n",
    "# Get a list of all categorical features with cardinality <= 50\n",
    "categorical_features = cardinality[cardinality <= 50].index.tolist()\n",
    "\n",
    "# Combine the lists \n",
    "features = numeric_features + categorical_features\n",
    "print(features)"
   ]
  },
  {
   "cell_type": "code",
   "execution_count": 9,
   "metadata": {},
   "outputs": [],
   "source": [
    "# Arrange data into X features matrix and y target vector \n",
    "X_train = train[features]\n",
    "y_train = train[target]\n",
    "X_test = test[features]\n",
    "y_test = test[target]"
   ]
  },
  {
   "cell_type": "code",
   "execution_count": 18,
   "metadata": {},
   "outputs": [],
   "source": [
    "import category_encoders as ce\n",
    "from sklearn.experimental import enable_iterative_imputer\n",
    "from sklearn.impute import IterativeImputer, SimpleImputer\n",
    "from sklearn.pipeline import make_pipeline\n",
    "from sklearn.tree import DecisionTreeClassifier\n",
    "import pandas as pd\n",
    "from sklearn.model_selection import train_test_split\n",
    "import matplotlib.pyplot as plt\n",
    "from dtreeviz.trees import *\n",
    "from sklearn.preprocessing import StandardScaler"
   ]
  },
  {
   "cell_type": "code",
   "execution_count": 19,
   "metadata": {},
   "outputs": [],
   "source": [
    "pipeline = make_pipeline(\n",
    "    ce.OneHotEncoder(), \n",
    "    SimpleImputer(),\n",
    "    DecisionTreeClassifier(max_depth=3)\n",
    ")"
   ]
  },
  {
   "cell_type": "code",
   "execution_count": 20,
   "metadata": {},
   "outputs": [
    {
     "output_type": "execute_result",
     "data": {
      "text/plain": "Pipeline(steps=[('onehotencoder',\n                 OneHotEncoder(cols=['Alternate', 'Bar', 'Fri/Sat', 'Hungry',\n                                     'Patrons', 'Price', 'Raining',\n                                     'Reservation', 'Type', 'WaitEstimate'])),\n                ('simpleimputer', SimpleImputer()),\n                ('decisiontreeclassifier',\n                 DecisionTreeClassifier(max_depth=3))])"
     },
     "metadata": {},
     "execution_count": 20
    }
   ],
   "source": [
    "pipeline.fit(X_train, y_train)"
   ]
  },
  {
   "cell_type": "code",
   "execution_count": 21,
   "metadata": {
    "tags": []
   },
   "outputs": [
    {
     "output_type": "stream",
     "name": "stdout",
     "text": "Train Accuracy 1.0\n"
    }
   ],
   "source": [
    "print('Train Accuracy', pipeline.score(X_train, y_train))"
   ]
  },
  {
   "cell_type": "code",
   "execution_count": 22,
   "metadata": {},
   "outputs": [
    {
     "output_type": "execute_result",
     "data": {
      "text/plain": "8      No\n5     Yes\n2     Yes\n1      No\n11    Yes\n4      No\n7     Yes\n3     Yes\n6      No\nName: WillWait, dtype: object"
     },
     "metadata": {},
     "execution_count": 22
    }
   ],
   "source": [
    "y_train"
   ]
  },
  {
   "cell_type": "code",
   "execution_count": 23,
   "metadata": {},
   "outputs": [],
   "source": [
    "encoder = ce.OneHotEncoder(use_cat_names=True)\n",
    "imputer = SimpleImputer()\n",
    "scaler = StandardScaler()\n",
    "\n",
    "X_train_encoded = encoder.fit_transform(X_train)\n",
    "X_train_imputed = imputer.fit_transform(X_train_encoded)\n",
    "X_train_scaled = scaler.fit_transform(X_train_imputed)"
   ]
  },
  {
   "cell_type": "code",
   "execution_count": 24,
   "metadata": {},
   "outputs": [],
   "source": [
    "X_test_encoded = encoder.transform(X_test)\n",
    "X_test_imputed = imputer.transform(X_test_encoded)\n",
    "X_test_scaled = scaler.transform(X_test_imputed)"
   ]
  },
  {
   "cell_type": "code",
   "execution_count": 25,
   "metadata": {},
   "outputs": [
    {
     "output_type": "execute_result",
     "data": {
      "text/plain": "DecisionTreeClassifier(max_depth=3)"
     },
     "metadata": {},
     "execution_count": 25
    }
   ],
   "source": [
    "clas = tree.DecisionTreeClassifier(max_depth=3)  \n",
    "X_train = X_train_scaled\n",
    "y_train = [0, 1, 1, 0,1,0,1,1,0]\n",
    "\n",
    "y_train = np.array(y_train, dtype=np.float32)\n",
    "clas.fit(X_train, y_train)"
   ]
  },
  {
   "cell_type": "code",
   "execution_count": 26,
   "metadata": {},
   "outputs": [],
   "source": [
    "from sklearn import metrics"
   ]
  },
  {
   "cell_type": "code",
   "execution_count": 31,
   "metadata": {
    "tags": []
   },
   "outputs": [
    {
     "output_type": "error",
     "ename": "TypeError",
     "evalue": "dtreeviz() missing 1 required positional argument: 'feature_names'",
     "traceback": [
      "\u001b[0;31m---------------------------------------------------------------------------\u001b[0m",
      "\u001b[0;31mTypeError\u001b[0m                                 Traceback (most recent call last)",
      "\u001b[0;32m<ipython-input-31-e93773ad9ec8>\u001b[0m in \u001b[0;36m<module>\u001b[0;34m\u001b[0m\n\u001b[1;32m      3\u001b[0m                \u001b[0my_train\u001b[0m\u001b[0;34m,\u001b[0m\u001b[0;34m\u001b[0m\u001b[0m\n\u001b[1;32m      4\u001b[0m                \u001b[0mtarget_name\u001b[0m\u001b[0;34m=\u001b[0m\u001b[0;34m'WillWait'\u001b[0m\u001b[0;34m,\u001b[0m\u001b[0;34m\u001b[0m\u001b[0m\n\u001b[0;32m----> 5\u001b[0;31m                histtype='bar')\n\u001b[0m",
      "\u001b[0;31mTypeError\u001b[0m: dtreeviz() missing 1 required positional argument: 'feature_names'"
     ]
    }
   ],
   "source": [
    "viz = dtreeviz(clas, \n",
    "               X_train,\n",
    "               y_train,\n",
    "               target_name='WillWait',\n",
    "               feature_names=['Yes',], \n",
    "               class_names=[chr(c) for c in range(ord('0'),ord('9')+1)],\n",
    "               histtype='bar')"
   ]
  },
  {
   "cell_type": "code",
   "execution_count": 241,
   "metadata": {},
   "outputs": [],
   "source": [
    "viz.view()"
   ]
  },
  {
   "cell_type": "code",
   "execution_count": null,
   "metadata": {},
   "outputs": [],
   "source": []
  }
 ],
 "metadata": {
  "language_info": {
   "codemirror_mode": {
    "name": "ipython",
    "version": 3
   },
   "file_extension": ".py",
   "mimetype": "text/x-python",
   "name": "python",
   "nbconvert_exporter": "python",
   "pygments_lexer": "ipython3",
   "version": "3.7.0-final"
  },
  "orig_nbformat": 2,
  "kernelspec": {
   "name": "dtl",
   "display_name": "dtl (python3)"
  }
 },
 "nbformat": 4,
 "nbformat_minor": 2
}