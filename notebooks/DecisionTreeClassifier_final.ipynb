{
 "cells": [
  {
   "cell_type": "code",
   "execution_count": 1,
   "metadata": {},
   "outputs": [],
   "source": [
    "# training dataset\n",
    "training_data = [\n",
    "    ['Yes', 'No','No','Yes','Some','$$$','No','Yes','French','0-10','Yes'],\n",
    "    ['Yes', 'No', 'No', 'Yes', 'Full', '$', 'No', 'No', 'Thai', '30-60', 'No'],\n",
    "    ['No', 'Yes', 'No', 'No', 'Some', '$', 'No', 'No', 'Burger', '0-10', 'Yes'],\n",
    "    ['Yes', 'No', 'Yes', 'Yes', 'Full', '$', 'No', 'No', 'Thai', '10-30', 'Yes'],\n",
    "    ['Yes', 'No', 'Yes', 'No', 'Full', '$$$', 'No', 'Yes', 'French', '>60', 'No'],\n",
    "    ['No','Yes','No','Yes','Some','$$','Yes','Yes','Italian','0-10','Yes'],\n",
    "    ['No', 'Yes', 'No', 'No', 'None', '$', 'Yes', 'No', 'Burger', '0-10', 'No'],\n",
    "    ['No', 'No', 'No', 'Yes', 'Some', '$$', 'Yes', 'Yes', 'Thai', '0-10', 'Yes'],\n",
    "    ['No', 'Yes', 'Yes', 'No', 'Full', '$', 'Yes', 'No', 'Burger', '>60', 'No'],\n",
    "    ['Yes','Yes','Yes','Yes','Full','$$$','No','Yes','Italian','10-30','No'],\n",
    "    ['No', 'No', 'No', 'No', 'None', '$', 'No', 'No', 'Thai', '0-10', 'No'],\n",
    "    ['Yes','Yes','Yes','Yes','Full','$','No','No','Burger','30-60','Yes']\n",
    "]"
   ]
  },
  {
   "cell_type": "code",
   "execution_count": 2,
   "metadata": {},
   "outputs": [],
   "source": [
    "# column labels\n",
    "header = [\"Alternate\", \"Bar\", \"Fri/Sat\", \"Hungry\", \"Patrons\", \"Price\", \"Raining\", \"Reservation\" , \"Type\", \"WaitEstimate\", \"WillWait\"]"
   ]
  },
  {
   "cell_type": "code",
   "execution_count": 3,
   "metadata": {},
   "outputs": [
    {
     "output_type": "execute_result",
     "data": {
      "text/plain": "{'Burger', 'French', 'Italian', 'Thai'}"
     },
     "metadata": {},
     "execution_count": 3
    }
   ],
   "source": [
    "def unique_vals(rows, col):\n",
    "    \"\"\" This return a set of unique values in a particular column \"\"\"\n",
    "    return set([row[col] for row in rows])\n",
    "\n",
    "unique_vals(training_data, 8)"
   ]
  },
  {
   "cell_type": "code",
   "execution_count": 4,
   "metadata": {},
   "outputs": [],
   "source": [
    "def class_counts(rows):\n",
    "    counts = {} # a dictionary of labels.\n",
    "    for row in rows: # for every row in rows   \n",
    "        label = row[-1] # assuming labels are the last column in data frame\n",
    "        if label not in counts: # label is not in counts\n",
    "            counts[label] = 0\n",
    "        counts[label] += 1\n",
    "    return counts"
   ]
  },
  {
   "cell_type": "code",
   "execution_count": 5,
   "metadata": {},
   "outputs": [],
   "source": [
    "def is_numeric(value):\n",
    "    \"\"\" Testing whether the values are numeric \"\"\"\n",
    "    return isinstance(value, int) or isinstance(value, float)"
   ]
  },
  {
   "cell_type": "code",
   "execution_count": 6,
   "metadata": {},
   "outputs": [],
   "source": [
    "# # Checking categorical and numeric values.\n",
    "# for i in range(len(training_data)):\n",
    "#     print(\"Is\", training_data[i][0], \"numeric?\" , is_numeric(training_data[i][0]))"
   ]
  },
  {
   "cell_type": "code",
   "execution_count": 7,
   "metadata": {},
   "outputs": [],
   "source": [
    "class Question:\n",
    "    \n",
    "    def __init__(self, column, value):\n",
    "        self.column = column\n",
    "        self.value = value\n",
    "    \n",
    "    def match(self, example):\n",
    "        val = example[self.column]\n",
    "        if is_numeric(val):\n",
    "            return val >= self.value\n",
    "        else:\n",
    "            return val == self.value\n",
    "    \n",
    "    def __repr__(self):\n",
    "    \n",
    "        \"\"\" Helper method to that the question can be printed in \n",
    "        a readable format.\"\"\"\n",
    "        \n",
    "        condition = \"==\"\n",
    "        if is_numeric(self.value):\n",
    "            condition = \">=\"\n",
    "        return \"Is %s %s %s\" % (\n",
    "        header[self.column], condition, str(self.value))"
   ]
  },
  {
   "cell_type": "code",
   "execution_count": 8,
   "metadata": {},
   "outputs": [
    {
     "output_type": "execute_result",
     "data": {
      "text/plain": "Is Alternate == Yes"
     },
     "metadata": {},
     "execution_count": 8
    }
   ],
   "source": [
    "q = Question(0, \"Yes\")\n",
    "q"
   ]
  },
  {
   "cell_type": "code",
   "execution_count": 9,
   "metadata": {},
   "outputs": [
    {
     "output_type": "execute_result",
     "data": {
      "text/plain": "['Yes', 'No', 'No', 'Yes', 'Some', '$$$', 'No', 'Yes', 'French', '0-10', 'Yes']"
     },
     "metadata": {},
     "execution_count": 9
    }
   ],
   "source": [
    "example1 = training_data[0]\n",
    "example1"
   ]
  },
  {
   "cell_type": "code",
   "execution_count": 10,
   "metadata": {},
   "outputs": [
    {
     "output_type": "execute_result",
     "data": {
      "text/plain": "True"
     },
     "metadata": {},
     "execution_count": 10
    }
   ],
   "source": [
    "q.match(example1) # is the first example is green. this will be true"
   ]
  },
  {
   "cell_type": "code",
   "execution_count": 11,
   "metadata": {},
   "outputs": [
    {
     "output_type": "execute_result",
     "data": {
      "text/plain": "False"
     },
     "metadata": {},
     "execution_count": 11
    }
   ],
   "source": [
    "q1 = Question(2, \"Yes\")\n",
    "example2 = training_data[0]\n",
    "q1.match(example2) # is False because the string instance is 'Apple'."
   ]
  },
  {
   "cell_type": "code",
   "execution_count": 12,
   "metadata": {},
   "outputs": [],
   "source": [
    "def partition(rows, question):\n",
    "    \n",
    "    true_rows, false_rows = [], []\n",
    "    \n",
    "    for row in rows:\n",
    "        if question.match(row):\n",
    "            true_rows.append(row)\n",
    "        else:\n",
    "            false_rows.append(row)\n",
    "    return true_rows, false_rows"
   ]
  },
  {
   "cell_type": "code",
   "execution_count": 13,
   "metadata": {},
   "outputs": [
    {
     "output_type": "execute_result",
     "data": {
      "text/plain": "[['Yes',\n  'No',\n  'No',\n  'Yes',\n  'Some',\n  '$$$',\n  'No',\n  'Yes',\n  'French',\n  '0-10',\n  'Yes'],\n ['Yes', 'No', 'No', 'Yes', 'Full', '$', 'No', 'No', 'Thai', '30-60', 'No'],\n ['Yes', 'No', 'Yes', 'Yes', 'Full', '$', 'No', 'No', 'Thai', '10-30', 'Yes'],\n ['Yes', 'No', 'Yes', 'No', 'Full', '$$$', 'No', 'Yes', 'French', '>60', 'No'],\n ['Yes',\n  'Yes',\n  'Yes',\n  'Yes',\n  'Full',\n  '$$$',\n  'No',\n  'Yes',\n  'Italian',\n  '10-30',\n  'No'],\n ['Yes',\n  'Yes',\n  'Yes',\n  'Yes',\n  'Full',\n  '$',\n  'No',\n  'No',\n  'Burger',\n  '30-60',\n  'Yes']]"
     },
     "metadata": {},
     "execution_count": 13
    }
   ],
   "source": [
    "true_rows, false_rows = partition(training_data, Question(0, 'Yes'))\n",
    "true_rows # get back rows were the first element is equivalen to 'Red'"
   ]
  },
  {
   "cell_type": "code",
   "execution_count": 14,
   "metadata": {},
   "outputs": [],
   "source": [
    "def gini(rows):\n",
    "    \n",
    "    \"\"\" Gini Impurity is a measurement of the likelihood of \n",
    "        an incorrect classification of a new instance of a \n",
    "        random variable, if that new instance were randomly \n",
    "        classified according to the distribution of class \n",
    "        labels from the data set. Source: https://bambielli.com\n",
    "        /til/2017-10-29-gini-impurity \"\"\"\n",
    "    \n",
    "    counts = class_counts(rows)\n",
    "    impurity = 1\n",
    "    for lbl in counts: # for labels in counts\n",
    "        prob_of_lbl = counts[lbl] / float(len(rows))\n",
    "        impurity -= prob_of_lbl**2\n",
    "    return impurity"
   ]
  },
  {
   "cell_type": "code",
   "execution_count": 15,
   "metadata": {},
   "outputs": [],
   "source": [
    "def info_gain(left, right, current_uncertainty):\n",
    "    \n",
    "    \"\"\" Information gain is the reduction in entropy \n",
    "        or surprise by transforming a dataset and is\n",
    "        often used in training decision trees. \n",
    "        Information gain is calculated by comparing\n",
    "        the entropy of the dataset before and after \n",
    "        a transformation. \"\"\"\n",
    "    \n",
    "    p = float(len(left)) / (len(left) + len(right))\n",
    "    return current_uncertainty - p * gini(left) - (1 - p) * gini(right)"
   ]
  },
  {
   "cell_type": "code",
   "execution_count": 16,
   "metadata": {},
   "outputs": [
    {
     "output_type": "execute_result",
     "data": {
      "text/plain": "0.5"
     },
     "metadata": {},
     "execution_count": 16
    }
   ],
   "source": [
    "current_uncertainty = gini(training_data)\n",
    "current_uncertainty"
   ]
  },
  {
   "cell_type": "code",
   "execution_count": 17,
   "metadata": {},
   "outputs": [
    {
     "output_type": "execute_result",
     "data": {
      "text/plain": "0.12857142857142861"
     },
     "metadata": {},
     "execution_count": 17
    }
   ],
   "source": [
    "true_rows, false_rows = partition(training_data, Question(3, 'Yes'))\n",
    "info_gain(true_rows, false_rows, current_uncertainty)"
   ]
  },
  {
   "cell_type": "code",
   "execution_count": 18,
   "metadata": {},
   "outputs": [],
   "source": [
    "def find_best_split(rows):\n",
    "    \n",
    "    \"\"\" Find the best questions to ask by iterating over every\n",
    "    feature/value and calculating the information gain. \"\"\"\n",
    "    \n",
    "    best_gain = 0 # keeping track of best information gain\n",
    "    best_question = None # keep train of the feature / value that produced it\n",
    "    current_uncertainty = gini(rows)\n",
    "    n_features = len(rows[0]) - 1 # number of columns\n",
    "    \n",
    "    for col in range(n_features): # for every feature\n",
    "        \n",
    "        values = set([row[col] for row in rows]) # value that is unique\n",
    "        \n",
    "        for val in values: # for every value\n",
    "        \n",
    "            question = Question(col, val)\n",
    "            \n",
    "            true_rows, false_rows = partition(rows, question) # attempt to split data set\n",
    "            \n",
    "            if len(true_rows) == 0 or len(false_rows) == 0: # if the data set is not divisible skip the split\n",
    "                continue\n",
    "            \n",
    "            # information gain should be calculated after the split\n",
    "            gain = info_gain(true_rows, false_rows, current_uncertainty)\n",
    "            \n",
    "            if gain >= best_gain:\n",
    "                best_gain, best_question = gain, question\n",
    "\n",
    "    return best_gain, best_question"
   ]
  },
  {
   "cell_type": "code",
   "execution_count": 19,
   "metadata": {},
   "outputs": [
    {
     "output_type": "execute_result",
     "data": {
      "text/plain": "Is Patrons == Some"
     },
     "metadata": {},
     "execution_count": 19
    }
   ],
   "source": [
    "# find the best question to ask our toy dataset\n",
    "best_gain, best_question = find_best_split(training_data)\n",
    "best_question"
   ]
  },
  {
   "cell_type": "code",
   "execution_count": 20,
   "metadata": {},
   "outputs": [],
   "source": [
    "class Leaf:\n",
    "    \"\"\"\n",
    "    A lead node is need to classify data.\n",
    "        \n",
    "    This will hold a dictionary of class (\"Apple\", \"Grape\", etc...) -> this will\n",
    "    show the amount of times the class appears in the rows of the training dataset \n",
    "    when it gets to this leaf.\n",
    "    \"\"\"  \n",
    "    def __init__(self, rows):\n",
    "        self.predictions = class_counts(rows)"
   ]
  },
  {
   "cell_type": "code",
   "execution_count": 21,
   "metadata": {},
   "outputs": [],
   "source": [
    "class Decision_Node:\n",
    "    \"\"\"\n",
    "    This is a Decision Node and it asks a question.\n",
    "    \n",
    "    A reference to the question will be held here. In addition to the two child nodes\n",
    "    that will branch off from this point.\n",
    "    \"\"\"\n",
    "    def __init__(self, \n",
    "                 question,\n",
    "                 true_branch,\n",
    "                 false_branch):\n",
    "        self.question = question\n",
    "        self.true_branch = true_branch\n",
    "        self.false_branch = false_branch"
   ]
  },
  {
   "cell_type": "code",
   "execution_count": 22,
   "metadata": {},
   "outputs": [],
   "source": [
    "def build_tree(rows):\n",
    "    \"\"\"\n",
    "    This builds our tree\n",
    "    \n",
    "    Rules for recursion: \n",
    "        1. Start from checking from the base case (this implies no further info. gain)\n",
    "        2. There will be a big stack trace.\n",
    "    \"\"\"\n",
    "    \n",
    "    # attempt to partition the dataset on each of the attributes that are unique.\n",
    "    # information gain needs to be calculated.\n",
    "    # a lead is returned.\n",
    "    gain, question = find_best_split(rows)\n",
    "    \n",
    "    # Base case:\n",
    "    # There will be no more information gain.\n",
    "    # Since no further questions are asked we will return a leaf\n",
    "    if gain == 0:\n",
    "        return Leaf(rows)\n",
    "    \n",
    "    # Assuming that we have reached this part of the code.\n",
    "    # We are at a point where there is usefull features/values to split on.\n",
    "    true_rows, false_rows = partition(rows, question)\n",
    "    \n",
    "    # Build the true branch using recursion\n",
    "    true_branch = build_tree(true_rows)\n",
    "    \n",
    "    # Build the false branch using recursion\n",
    "    false_branch = build_tree(false_rows)\n",
    "    \n",
    "    \n",
    "    # The question node is returned\n",
    "    # This is give you a record of the best feature/value to ask.\n",
    "    # in addition, the branches to follow which depends on the answer.\n",
    "    return Decision_Node(question, true_branch, false_branch)"
   ]
  },
  {
   "cell_type": "code",
   "execution_count": 26,
   "metadata": {},
   "outputs": [],
   "source": [
    "def fit(node, spacing=\"\"):\n",
    "    \n",
    "    # base base: this is a way to say that we have reached a leaf\n",
    "    if isinstance(node, Leaf):\n",
    "        print(spacing + \"Predict\", node.predictions)\n",
    "        return\n",
    "    \n",
    "    # The question at this node can be printed\n",
    "    print(spacing + str(node.question))\n",
    "    \n",
    "    # This function needs to be called recursivly on the branch that is true\n",
    "    print(spacing + \"---> True: \")\n",
    "    print_tree(node.true_branch, spacing + \"  \")\n",
    "    \n",
    "    # The false branch needs to be called recursively as well\n",
    "    print(spacing + \"---> False: \")\n",
    "    print_tree(node.false_branch, spacing + \" \")"
   ]
  },
  {
   "cell_type": "code",
   "execution_count": 27,
   "metadata": {},
   "outputs": [],
   "source": [
    "my_tree = build_tree(training_data)"
   ]
  },
  {
   "cell_type": "code",
   "execution_count": 28,
   "metadata": {
    "tags": []
   },
   "outputs": [
    {
     "output_type": "stream",
     "name": "stdout",
     "text": "Is Patrons == Some\n---> True: \n  Predict {'Yes': 4}\n---> False: \n Is Hungry == No\n ---> True: \n   Predict {'No': 4}\n ---> False: \n  Is Type == Italian\n  ---> True: \n    Predict {'No': 1}\n  ---> False: \n   Is Fri/Sat == No\n   ---> True: \n     Predict {'No': 1}\n   ---> False: \n    Predict {'Yes': 2}\n"
    }
   ],
   "source": [
    "fit(my_tree)"
   ]
  },
  {
   "cell_type": "code",
   "execution_count": 35,
   "metadata": {},
   "outputs": [],
   "source": [
    "def predict(row, node):\n",
    "    \"\"\" See rules of recursion that is shown above. \"\"\"\n",
    "    \n",
    "    # Base case: we've reached a leaf\n",
    "    if isinstance(node, Leaf):\n",
    "        return node.predictions\n",
    "        \n",
    "    # A decision on whether to follow the true or flase branch\n",
    "    if node.question.match(row):\n",
    "        return predict(row, node.true_branch)\n",
    "    else:\n",
    "        return predict(row, node.false_branch)"
   ]
  },
  {
   "cell_type": "code",
   "execution_count": 36,
   "metadata": {},
   "outputs": [],
   "source": [
    "def print_leaf(counts):\n",
    "    \n",
    "    \"\"\" A nicer way to print the predictions at a leaf. \"\"\"\n",
    "    \n",
    "    total = sum(counts.values()) * 1.0\n",
    "    probs = {}\n",
    "    for lbl in counts.keys():\n",
    "        probs[lbl] = str(int(counts[lbl] / total*100)) + \"%\"\n",
    "    return probs"
   ]
  },
  {
   "cell_type": "code",
   "execution_count": 37,
   "metadata": {},
   "outputs": [
    {
     "output_type": "execute_result",
     "data": {
      "text/plain": "{'Yes': '100%'}"
     },
     "metadata": {},
     "execution_count": 37
    }
   ],
   "source": [
    "print_leaf(predict(training_data[0], my_tree))"
   ]
  },
  {
   "cell_type": "code",
   "execution_count": 38,
   "metadata": {},
   "outputs": [
    {
     "output_type": "execute_result",
     "data": {
      "text/plain": "{'No': '100%'}"
     },
     "metadata": {},
     "execution_count": 38
    }
   ],
   "source": [
    "print_leaf(predict(training_data[1], my_tree))"
   ]
  },
  {
   "cell_type": "code",
   "execution_count": 39,
   "metadata": {},
   "outputs": [],
   "source": [
    "testing_data = [\n",
    "    ['Yes', 'No','No','Yes','Some','$$$','No','Yes','French','0-10','Yes'],\n",
    "    ['Yes', 'No', 'No', 'Yes', 'Full', '$', 'No', 'No', 'Thai', '30-60', 'No'],\n",
    "    ['No', 'Yes', 'No', 'No', 'Some', '$', 'No', 'No', 'Burger', '0-10', 'Yes'],\n",
    "    ['Yes', 'No', 'Yes', 'Yes', 'Full', '$', 'No', 'No', 'Thai', '10-30', 'Yes'],\n",
    "]"
   ]
  },
  {
   "cell_type": "code",
   "execution_count": 41,
   "metadata": {
    "tags": []
   },
   "outputs": [
    {
     "output_type": "stream",
     "name": "stdout",
     "text": "Actual: Yes Predicted: {'Yes': '100%'}\n"
    }
   ],
   "source": [
    "for row in testing_data:\n",
    "    print(\"Actual: %s Predicted: %s\" % (row[-1], print_leaf(predict(row, my_tree))))"
   ]
  }
 ],
 "metadata": {
  "kernelspec": {
   "display_name": "dtl (python3)",
   "language": "python",
   "name": "dtl"
  },
  "language_info": {
   "codemirror_mode": {
    "name": "ipython",
    "version": 3
   },
   "file_extension": ".py",
   "mimetype": "text/x-python",
   "name": "python",
   "nbconvert_exporter": "python",
   "pygments_lexer": "ipython3",
   "version": "3.7.0-final"
  }
 },
 "nbformat": 4,
 "nbformat_minor": 4
}